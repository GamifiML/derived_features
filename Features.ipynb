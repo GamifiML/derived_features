{
 "cells": [
  {
   "cell_type": "code",
   "execution_count": 1,
   "metadata": {
    "collapsed": true
   },
   "outputs": [],
   "source": [
    "import  pandas as pd\n",
    "import  numpy as np\n",
    "train=pd.read_csv('smallTrain.csv')"
   ]
  },
  {
   "cell_type": "code",
   "execution_count": 2,
   "metadata": {
    "collapsed": false
   },
   "outputs": [
    {
     "data": {
      "text/html": [
       "<div>\n",
       "<table border=\"1\" class=\"dataframe\">\n",
       "  <thead>\n",
       "    <tr style=\"text-align: right;\">\n",
       "      <th></th>\n",
       "      <th>site_name</th>\n",
       "      <th>posa_continent</th>\n",
       "      <th>user_location_country</th>\n",
       "      <th>user_location_region</th>\n",
       "      <th>user_location_city</th>\n",
       "      <th>orig_destination_distance</th>\n",
       "      <th>user_id</th>\n",
       "      <th>is_mobile</th>\n",
       "      <th>is_package</th>\n",
       "      <th>channel</th>\n",
       "      <th>...</th>\n",
       "      <th>srch_destination_type_id</th>\n",
       "      <th>is_booking</th>\n",
       "      <th>cnt</th>\n",
       "      <th>hotel_continent</th>\n",
       "      <th>hotel_country</th>\n",
       "      <th>hotel_market</th>\n",
       "      <th>hotel_cluster</th>\n",
       "      <th>year</th>\n",
       "      <th>month</th>\n",
       "      <th>day</th>\n",
       "    </tr>\n",
       "  </thead>\n",
       "  <tbody>\n",
       "    <tr>\n",
       "      <th>0</th>\n",
       "      <td>2</td>\n",
       "      <td>3</td>\n",
       "      <td>66</td>\n",
       "      <td>348</td>\n",
       "      <td>48862</td>\n",
       "      <td>2234.2641</td>\n",
       "      <td>12</td>\n",
       "      <td>0</td>\n",
       "      <td>1</td>\n",
       "      <td>9</td>\n",
       "      <td>...</td>\n",
       "      <td>1</td>\n",
       "      <td>0</td>\n",
       "      <td>3</td>\n",
       "      <td>2</td>\n",
       "      <td>50</td>\n",
       "      <td>628</td>\n",
       "      <td>1</td>\n",
       "      <td>2014</td>\n",
       "      <td>8</td>\n",
       "      <td>11</td>\n",
       "    </tr>\n",
       "    <tr>\n",
       "      <th>1</th>\n",
       "      <td>2</td>\n",
       "      <td>3</td>\n",
       "      <td>66</td>\n",
       "      <td>348</td>\n",
       "      <td>48862</td>\n",
       "      <td>2234.2641</td>\n",
       "      <td>12</td>\n",
       "      <td>0</td>\n",
       "      <td>1</td>\n",
       "      <td>9</td>\n",
       "      <td>...</td>\n",
       "      <td>1</td>\n",
       "      <td>1</td>\n",
       "      <td>1</td>\n",
       "      <td>2</td>\n",
       "      <td>50</td>\n",
       "      <td>628</td>\n",
       "      <td>1</td>\n",
       "      <td>2014</td>\n",
       "      <td>8</td>\n",
       "      <td>11</td>\n",
       "    </tr>\n",
       "    <tr>\n",
       "      <th>2</th>\n",
       "      <td>2</td>\n",
       "      <td>3</td>\n",
       "      <td>66</td>\n",
       "      <td>348</td>\n",
       "      <td>48862</td>\n",
       "      <td>2234.2641</td>\n",
       "      <td>12</td>\n",
       "      <td>0</td>\n",
       "      <td>0</td>\n",
       "      <td>9</td>\n",
       "      <td>...</td>\n",
       "      <td>1</td>\n",
       "      <td>0</td>\n",
       "      <td>1</td>\n",
       "      <td>2</td>\n",
       "      <td>50</td>\n",
       "      <td>628</td>\n",
       "      <td>1</td>\n",
       "      <td>2014</td>\n",
       "      <td>8</td>\n",
       "      <td>11</td>\n",
       "    </tr>\n",
       "    <tr>\n",
       "      <th>3</th>\n",
       "      <td>2</td>\n",
       "      <td>3</td>\n",
       "      <td>66</td>\n",
       "      <td>442</td>\n",
       "      <td>35390</td>\n",
       "      <td>913.1932</td>\n",
       "      <td>93</td>\n",
       "      <td>0</td>\n",
       "      <td>0</td>\n",
       "      <td>3</td>\n",
       "      <td>...</td>\n",
       "      <td>1</td>\n",
       "      <td>0</td>\n",
       "      <td>1</td>\n",
       "      <td>2</td>\n",
       "      <td>50</td>\n",
       "      <td>1457</td>\n",
       "      <td>80</td>\n",
       "      <td>2014</td>\n",
       "      <td>8</td>\n",
       "      <td>9</td>\n",
       "    </tr>\n",
       "    <tr>\n",
       "      <th>4</th>\n",
       "      <td>2</td>\n",
       "      <td>3</td>\n",
       "      <td>66</td>\n",
       "      <td>442</td>\n",
       "      <td>35390</td>\n",
       "      <td>913.6259</td>\n",
       "      <td>93</td>\n",
       "      <td>0</td>\n",
       "      <td>0</td>\n",
       "      <td>3</td>\n",
       "      <td>...</td>\n",
       "      <td>1</td>\n",
       "      <td>0</td>\n",
       "      <td>1</td>\n",
       "      <td>2</td>\n",
       "      <td>50</td>\n",
       "      <td>1457</td>\n",
       "      <td>21</td>\n",
       "      <td>2014</td>\n",
       "      <td>8</td>\n",
       "      <td>9</td>\n",
       "    </tr>\n",
       "    <tr>\n",
       "      <th>5</th>\n",
       "      <td>2</td>\n",
       "      <td>3</td>\n",
       "      <td>66</td>\n",
       "      <td>442</td>\n",
       "      <td>35390</td>\n",
       "      <td>911.5142</td>\n",
       "      <td>93</td>\n",
       "      <td>0</td>\n",
       "      <td>0</td>\n",
       "      <td>3</td>\n",
       "      <td>...</td>\n",
       "      <td>1</td>\n",
       "      <td>0</td>\n",
       "      <td>1</td>\n",
       "      <td>2</td>\n",
       "      <td>50</td>\n",
       "      <td>1457</td>\n",
       "      <td>92</td>\n",
       "      <td>2014</td>\n",
       "      <td>8</td>\n",
       "      <td>9</td>\n",
       "    </tr>\n",
       "    <tr>\n",
       "      <th>6</th>\n",
       "      <td>2</td>\n",
       "      <td>3</td>\n",
       "      <td>66</td>\n",
       "      <td>189</td>\n",
       "      <td>10067</td>\n",
       "      <td>-13.0000</td>\n",
       "      <td>501</td>\n",
       "      <td>0</td>\n",
       "      <td>0</td>\n",
       "      <td>2</td>\n",
       "      <td>...</td>\n",
       "      <td>1</td>\n",
       "      <td>0</td>\n",
       "      <td>2</td>\n",
       "      <td>2</td>\n",
       "      <td>50</td>\n",
       "      <td>675</td>\n",
       "      <td>41</td>\n",
       "      <td>2014</td>\n",
       "      <td>7</td>\n",
       "      <td>16</td>\n",
       "    </tr>\n",
       "    <tr>\n",
       "      <th>7</th>\n",
       "      <td>2</td>\n",
       "      <td>3</td>\n",
       "      <td>66</td>\n",
       "      <td>189</td>\n",
       "      <td>10067</td>\n",
       "      <td>-13.0000</td>\n",
       "      <td>501</td>\n",
       "      <td>0</td>\n",
       "      <td>1</td>\n",
       "      <td>2</td>\n",
       "      <td>...</td>\n",
       "      <td>1</td>\n",
       "      <td>0</td>\n",
       "      <td>1</td>\n",
       "      <td>2</td>\n",
       "      <td>50</td>\n",
       "      <td>675</td>\n",
       "      <td>41</td>\n",
       "      <td>2014</td>\n",
       "      <td>7</td>\n",
       "      <td>16</td>\n",
       "    </tr>\n",
       "    <tr>\n",
       "      <th>8</th>\n",
       "      <td>2</td>\n",
       "      <td>3</td>\n",
       "      <td>66</td>\n",
       "      <td>189</td>\n",
       "      <td>10067</td>\n",
       "      <td>-13.0000</td>\n",
       "      <td>501</td>\n",
       "      <td>0</td>\n",
       "      <td>0</td>\n",
       "      <td>2</td>\n",
       "      <td>...</td>\n",
       "      <td>1</td>\n",
       "      <td>0</td>\n",
       "      <td>1</td>\n",
       "      <td>2</td>\n",
       "      <td>50</td>\n",
       "      <td>675</td>\n",
       "      <td>69</td>\n",
       "      <td>2014</td>\n",
       "      <td>7</td>\n",
       "      <td>16</td>\n",
       "    </tr>\n",
       "    <tr>\n",
       "      <th>9</th>\n",
       "      <td>2</td>\n",
       "      <td>3</td>\n",
       "      <td>66</td>\n",
       "      <td>189</td>\n",
       "      <td>10067</td>\n",
       "      <td>-13.0000</td>\n",
       "      <td>501</td>\n",
       "      <td>0</td>\n",
       "      <td>0</td>\n",
       "      <td>2</td>\n",
       "      <td>...</td>\n",
       "      <td>1</td>\n",
       "      <td>0</td>\n",
       "      <td>1</td>\n",
       "      <td>2</td>\n",
       "      <td>50</td>\n",
       "      <td>675</td>\n",
       "      <td>70</td>\n",
       "      <td>2014</td>\n",
       "      <td>7</td>\n",
       "      <td>16</td>\n",
       "    </tr>\n",
       "  </tbody>\n",
       "</table>\n",
       "<p>10 rows × 26 columns</p>\n",
       "</div>"
      ],
      "text/plain": [
       "   site_name  posa_continent  user_location_country  user_location_region  \\\n",
       "0          2               3                     66                   348   \n",
       "1          2               3                     66                   348   \n",
       "2          2               3                     66                   348   \n",
       "3          2               3                     66                   442   \n",
       "4          2               3                     66                   442   \n",
       "5          2               3                     66                   442   \n",
       "6          2               3                     66                   189   \n",
       "7          2               3                     66                   189   \n",
       "8          2               3                     66                   189   \n",
       "9          2               3                     66                   189   \n",
       "\n",
       "   user_location_city  orig_destination_distance  user_id  is_mobile  \\\n",
       "0               48862                  2234.2641       12          0   \n",
       "1               48862                  2234.2641       12          0   \n",
       "2               48862                  2234.2641       12          0   \n",
       "3               35390                   913.1932       93          0   \n",
       "4               35390                   913.6259       93          0   \n",
       "5               35390                   911.5142       93          0   \n",
       "6               10067                   -13.0000      501          0   \n",
       "7               10067                   -13.0000      501          0   \n",
       "8               10067                   -13.0000      501          0   \n",
       "9               10067                   -13.0000      501          0   \n",
       "\n",
       "   is_package  channel ...   srch_destination_type_id  is_booking  cnt  \\\n",
       "0           1        9 ...                          1           0    3   \n",
       "1           1        9 ...                          1           1    1   \n",
       "2           0        9 ...                          1           0    1   \n",
       "3           0        3 ...                          1           0    1   \n",
       "4           0        3 ...                          1           0    1   \n",
       "5           0        3 ...                          1           0    1   \n",
       "6           0        2 ...                          1           0    2   \n",
       "7           1        2 ...                          1           0    1   \n",
       "8           0        2 ...                          1           0    1   \n",
       "9           0        2 ...                          1           0    1   \n",
       "\n",
       "   hotel_continent  hotel_country  hotel_market  hotel_cluster  year  month  \\\n",
       "0                2             50           628              1  2014      8   \n",
       "1                2             50           628              1  2014      8   \n",
       "2                2             50           628              1  2014      8   \n",
       "3                2             50          1457             80  2014      8   \n",
       "4                2             50          1457             21  2014      8   \n",
       "5                2             50          1457             92  2014      8   \n",
       "6                2             50           675             41  2014      7   \n",
       "7                2             50           675             41  2014      7   \n",
       "8                2             50           675             69  2014      7   \n",
       "9                2             50           675             70  2014      7   \n",
       "\n",
       "   day  \n",
       "0   11  \n",
       "1   11  \n",
       "2   11  \n",
       "3    9  \n",
       "4    9  \n",
       "5    9  \n",
       "6   16  \n",
       "7   16  \n",
       "8   16  \n",
       "9   16  \n",
       "\n",
       "[10 rows x 26 columns]"
      ]
     },
     "execution_count": 2,
     "metadata": {},
     "output_type": "execute_result"
    }
   ],
   "source": [
    "train.head(10)"
   ]
  },
  {
   "cell_type": "code",
   "execution_count": 3,
   "metadata": {
    "collapsed": true
   },
   "outputs": [],
   "source": [
    "y=train['hotel_cluster']\n",
    "train=train.drop('hotel_cluster',axis=1)\n",
    "train=train.drop('orig_destination_distance',axis=1)"
   ]
  },
  {
   "cell_type": "code",
   "execution_count": 4,
   "metadata": {
    "collapsed": false
   },
   "outputs": [
    {
     "data": {
      "text/plain": [
       "(100000, 24)"
      ]
     },
     "execution_count": 4,
     "metadata": {},
     "output_type": "execute_result"
    }
   ],
   "source": [
    "train.shape"
   ]
  },
  {
   "cell_type": "raw",
   "metadata": {},
   "source": [
    "Fo    24    categorical  features    the  number  of  3D possible joint  prob  distribution    I think  is   combinations  of    N  tacken    3"
   ]
  },
  {
   "cell_type": "code",
   "execution_count": 5,
   "metadata": {
    "collapsed": true
   },
   "outputs": [],
   "source": [
    "#copy pasted from google \n",
    "from math import factorial\n",
    "def combination(n,k):\n",
    "    numerator=factorial(n)\n",
    "    denominator=(factorial(k)*factorial(n-k))\n",
    "    answer=numerator/denominator\n",
    "    return answer"
   ]
  },
  {
   "cell_type": "code",
   "execution_count": 6,
   "metadata": {
    "collapsed": false
   },
   "outputs": [
    {
     "data": {
      "text/plain": [
       "4.0"
      ]
     },
     "execution_count": 6,
     "metadata": {},
     "output_type": "execute_result"
    }
   ],
   "source": [
    "combination(4,3)"
   ]
  },
  {
   "cell_type": "code",
   "execution_count": 7,
   "metadata": {
    "collapsed": true
   },
   "outputs": [],
   "source": [
    "N=train.shape[1]"
   ]
  },
  {
   "cell_type": "code",
   "execution_count": 8,
   "metadata": {
    "collapsed": false
   },
   "outputs": [
    {
     "data": {
      "text/plain": [
       "24"
      ]
     },
     "execution_count": 8,
     "metadata": {},
     "output_type": "execute_result"
    }
   ],
   "source": [
    "N"
   ]
  },
  {
   "cell_type": "code",
   "execution_count": 9,
   "metadata": {
    "collapsed": true
   },
   "outputs": [],
   "source": [
    "import itertools"
   ]
  },
  {
   "cell_type": "code",
   "execution_count": 10,
   "metadata": {
    "collapsed": false
   },
   "outputs": [
    {
     "name": "stdout",
     "output_type": "stream",
     "text": [
      "2024\n"
     ]
    }
   ],
   "source": [
    "#GENERATING ALL COMBINATIONS  - willl  bring  back     3D indexes of column  names\n",
    "comb=itertools.combinations(range(N), 3)\n",
    "idx=[ elem   for  elem in  comb]\n",
    "\n",
    "print(len(idx))\n"
   ]
  },
  {
   "cell_type": "code",
   "execution_count": 11,
   "metadata": {
    "collapsed": false
   },
   "outputs": [],
   "source": [
    "from random import randrange\n",
    "random_index = randrange(0,len(idx))\n",
    "random_joint=idx[random_index]"
   ]
  },
  {
   "cell_type": "code",
   "execution_count": 12,
   "metadata": {
    "collapsed": false
   },
   "outputs": [
    {
     "data": {
      "text/plain": [
       "array([ 0,  9, 10])"
      ]
     },
     "execution_count": 12,
     "metadata": {},
     "output_type": "execute_result"
    }
   ],
   "source": [
    "random_joint=np.array(random_joint)\n",
    "random_joint"
   ]
  },
  {
   "cell_type": "code",
   "execution_count": 13,
   "metadata": {
    "collapsed": false
   },
   "outputs": [
    {
     "data": {
      "text/plain": [
       "Index(['site_name', 'posa_continent', 'user_location_country',\n",
       "       'user_location_region', 'user_location_city', 'user_id', 'is_mobile',\n",
       "       'is_package', 'channel', 'srch_ci', 'srch_co', 'srch_adults_cnt',\n",
       "       'srch_children_cnt', 'srch_rm_cnt', 'srch_destination_id',\n",
       "       'srch_destination_type_id', 'is_booking', 'cnt', 'hotel_continent',\n",
       "       'hotel_country', 'hotel_market', 'year', 'month', 'day'],\n",
       "      dtype='object')"
      ]
     },
     "execution_count": 13,
     "metadata": {},
     "output_type": "execute_result"
    }
   ],
   "source": [
    "names=train.columns\n",
    "names"
   ]
  },
  {
   "cell_type": "code",
   "execution_count": 14,
   "metadata": {
    "collapsed": false
   },
   "outputs": [],
   "source": [
    "names_subset=names[list(random_joint)]"
   ]
  },
  {
   "cell_type": "code",
   "execution_count": 15,
   "metadata": {
    "collapsed": false
   },
   "outputs": [
    {
     "data": {
      "text/html": [
       "<div>\n",
       "<table border=\"1\" class=\"dataframe\">\n",
       "  <thead>\n",
       "    <tr style=\"text-align: right;\">\n",
       "      <th></th>\n",
       "      <th>is_mobile</th>\n",
       "      <th>srch_rm_cnt</th>\n",
       "      <th>hotel_continent</th>\n",
       "    </tr>\n",
       "  </thead>\n",
       "  <tbody>\n",
       "    <tr>\n",
       "      <th>0</th>\n",
       "      <td>0</td>\n",
       "      <td>1</td>\n",
       "      <td>2</td>\n",
       "    </tr>\n",
       "    <tr>\n",
       "      <th>1</th>\n",
       "      <td>0</td>\n",
       "      <td>1</td>\n",
       "      <td>2</td>\n",
       "    </tr>\n",
       "    <tr>\n",
       "      <th>2</th>\n",
       "      <td>0</td>\n",
       "      <td>1</td>\n",
       "      <td>2</td>\n",
       "    </tr>\n",
       "  </tbody>\n",
       "</table>\n",
       "</div>"
      ],
      "text/plain": [
       "   is_mobile  srch_rm_cnt  hotel_continent\n",
       "0          0            1                2\n",
       "1          0            1                2\n",
       "2          0            1                2"
      ]
     },
     "execution_count": 15,
     "metadata": {},
     "output_type": "execute_result"
    }
   ],
   "source": [
    "tr=train[['is_mobile', 'srch_rm_cnt', 'hotel_continent']]\n",
    "tr.head(3)"
   ]
  },
  {
   "cell_type": "code",
   "execution_count": 84,
   "metadata": {
    "collapsed": false
   },
   "outputs": [],
   "source": [
    "from collections import Counter\n",
    "class featuresfrom3d(object):\n",
    "    def __init__(self,data):\n",
    "        \"\"\" init   class  with  3D  DATA FRAME  and  other  data  members  needed\"\"\"\n",
    "        self.data=data\n",
    "        # unique   categories for  the  3 features\n",
    "        self.u1=None\n",
    "        self.u2=None\n",
    "        self.u3=None\n",
    "        #names  for   easy call   of the columns\n",
    "        self.name1=self.data.columns[0]\n",
    "        self.name2=self.data.columns[1]\n",
    "        self.name3=self.data.columns[2]\n",
    "        #mapping     features\n",
    "        self.u1_mapping=None\n",
    "        self.u2_mapping=None\n",
    "        self.u3_mapping=None\n",
    "        #dimmensions  of    the   3D joint probability distro is    basically  the  cardinality of the   categories\n",
    "        self.dimmension_x=None\n",
    "        self.dimmension_y=None\n",
    "        self.dimmension_z=None\n",
    "        #set prob_space\n",
    "        self.prob_space=None\n",
    "        #the joint  distribution   of the   3  randomly choosen features\n",
    "        self.joint_prob_table=None\n",
    "    def  unique_cat(self):\n",
    "        \"\"\" get unique   categories   for  the    3 columns as list\"\"\"\n",
    "        self.u1=list(np.unique(self.data[self.name1]))\n",
    "        \n",
    "        self.u2=list(np.unique(self.data[self.name2]))\n",
    "        \n",
    "        self.u3=list(np.unique(self.data[self.name3]))\n",
    "        #after   computing the unique categories   will  add also    dimmensions of lego ,, cube''\n",
    "        self.dimmension_x=len(self.u1)\n",
    "        self.dimmension_y=len(self.u2)\n",
    "        self.dimmension_z=len(self.u3)\n",
    "    def mapping(self):\n",
    "        \"\"\"maps  with indexes  the        data  members    with   3 unique   values in order  to put   them  \n",
    "         in  a     3 dimmensional    lego \"\"\"\n",
    "        \n",
    "        self.u1_mapping={label:index\n",
    "           for  index,label in  enumerate(self.u1)}\n",
    "        \n",
    "        self.u2_mapping={label:index\n",
    "           for  index,label in  enumerate(self.u2)}\n",
    "        \n",
    "        self.u3_mapping={label:index\n",
    "           for  index,label in  enumerate(self.u3)}\n",
    "    def probspace(self):\n",
    "        \"\"\" Generates  probability  space\n",
    "        Here   is the    most  time extensive part , but   with  COunter   it is  solving in less  then  a second \n",
    "        \"\"\"\n",
    "        data=np.array(self.data)\n",
    "        tuples = [tuple(row) for row in data]\n",
    "        #get  frequency  for  each row   , Counter  fast  enough   for  our   task \n",
    "        frequency_of_rows=Counter(tuples)\n",
    "        \n",
    "        \n",
    "        probs={key:value/self.data.shape[0] for key,value in frequency_of_rows.items()}\n",
    "        self.prob_space=probs\n",
    "        #return  probs\n",
    "    \n",
    "    def  create_joint_3dtable(self):\n",
    "        #creates  the   joint   3D  table \n",
    "        \n",
    "        self.joint_prob_table=np.zeros((self.dimmension_x,self.dimmension_y,self.dimmension_y))\n",
    "        \n",
    "        for x,y, z in self.prob_space:\n",
    "            self.joint_prob_table[self.u1_mapping[x],self.u2_mapping[y],self.u3_mapping[y]]=self.prob_space[(x,y,z)]\n",
    "        \n",
    "        \n",
    "    def  conditioning1(self):\n",
    "        a=1\n",
    "        \"\"\"must  do conditioning   and  return coresponding  feature both for train  and  test\"\"\"\n",
    "        #to do\n",
    "    def  conditioning2(self):\n",
    "        a=1\n",
    "        #to do\n",
    "    def  conditioning3(self):\n",
    "        a=1\n",
    "        #to do\n",
    "    def  conditioning4(self):\n",
    "        a=1\n",
    "        #to do\n",
    "class  GenerateFeatures(featuresfrom3d):\n",
    "    def __init__(self,N_COLUMNS,data):\n",
    "        \"\"\"  INHERITS   EVERYTHING FROM   FEATURESFROM3D CLASS\"\"\"\n",
    "        self.N_COLUMNS=N_COLUMNS\n",
    "        featuresfrom3d.__init__(self,data)\n",
    "        "
   ]
  },
  {
   "cell_type": "code",
   "execution_count": 85,
   "metadata": {
    "collapsed": false
   },
   "outputs": [],
   "source": [
    "s=featuresfrom3d(tr)"
   ]
  },
  {
   "cell_type": "code",
   "execution_count": 86,
   "metadata": {
    "collapsed": false
   },
   "outputs": [],
   "source": [
    "s.unique_cat()"
   ]
  },
  {
   "cell_type": "code",
   "execution_count": 87,
   "metadata": {
    "collapsed": false
   },
   "outputs": [],
   "source": [
    "s.mapping()"
   ]
  },
  {
   "cell_type": "code",
   "execution_count": 110,
   "metadata": {
    "collapsed": false
   },
   "outputs": [],
   "source": [
    "map1=s.u1_mapping\n",
    "map2=s.u2_mapping\n",
    "map3=s.u3_mapping\n",
    "prob_space=s.prob_space"
   ]
  },
  {
   "cell_type": "code",
   "execution_count": 109,
   "metadata": {
    "collapsed": false
   },
   "outputs": [
    {
     "data": {
      "text/plain": [
       "(2, 9, 9)"
      ]
     },
     "execution_count": 109,
     "metadata": {},
     "output_type": "execute_result"
    }
   ],
   "source": [
    "joint_prob=s.joint_prob_table\n",
    "joint_prob.shape"
   ]
  },
  {
   "cell_type": "code",
   "execution_count": 111,
   "metadata": {
    "collapsed": false
   },
   "outputs": [],
   "source": [
    "for  x,y,z in prob_space:\n",
    "    joint_prob[map1[x],\n",
    "               map2[y],\n",
    "               map3[z]]=prob_space[(x,y,z)]"
   ]
  },
  {
   "cell_type": "code",
   "execution_count": 112,
   "metadata": {
    "collapsed": false
   },
   "outputs": [
    {
     "data": {
      "text/plain": [
       "array([[[  0.00000000e+00,   3.00000000e-05,   0.00000000e+00,\n",
       "           0.00000000e+00,   0.00000000e+00,   0.00000000e+00,\n",
       "           0.00000000e+00,   0.00000000e+00,   0.00000000e+00],\n",
       "        [  9.52000000e-03,   4.18160000e-01,   9.45300000e-02,\n",
       "           9.21300000e-02,   9.20000000e-03,   1.60580000e-01,\n",
       "           0.00000000e+00,   0.00000000e+00,   0.00000000e+00],\n",
       "        [  3.80000000e-04,   3.16700000e-02,   7.79000000e-03,\n",
       "           5.87000000e-03,   1.26000000e-03,   1.75500000e-02,\n",
       "           0.00000000e+00,   0.00000000e+00,   0.00000000e+00],\n",
       "        [  1.80000000e-04,   4.53000000e-03,   2.46000000e-03,\n",
       "           5.60000000e-04,   1.00000000e-05,   1.28000000e-03,\n",
       "           0.00000000e+00,   0.00000000e+00,   0.00000000e+00],\n",
       "        [  0.00000000e+00,   9.00000000e-04,   4.30000000e-04,\n",
       "           9.00000000e-05,   3.00000000e-05,   2.70000000e-04,\n",
       "           0.00000000e+00,   0.00000000e+00,   0.00000000e+00],\n",
       "        [  0.00000000e+00,   9.10000000e-04,   1.00000000e-05,\n",
       "           6.00000000e-05,   5.00000000e-05,   1.90000000e-04,\n",
       "           0.00000000e+00,   0.00000000e+00,   0.00000000e+00],\n",
       "        [  0.00000000e+00,   1.70000000e-04,   1.00000000e-05,\n",
       "           0.00000000e+00,   0.00000000e+00,   1.90000000e-04,\n",
       "           0.00000000e+00,   0.00000000e+00,   0.00000000e+00],\n",
       "        [  0.00000000e+00,   9.00000000e-05,   1.00000000e-05,\n",
       "           0.00000000e+00,   0.00000000e+00,   1.00000000e-05,\n",
       "           0.00000000e+00,   0.00000000e+00,   0.00000000e+00],\n",
       "        [  0.00000000e+00,   3.50000000e-04,   5.00000000e-05,\n",
       "           1.00000000e-05,   0.00000000e+00,   4.50000000e-04,\n",
       "           0.00000000e+00,   0.00000000e+00,   0.00000000e+00]],\n",
       "\n",
       "       [[  1.00000000e-05,   1.00000000e-05,   0.00000000e+00,\n",
       "           0.00000000e+00,   0.00000000e+00,   0.00000000e+00,\n",
       "           0.00000000e+00,   0.00000000e+00,   0.00000000e+00],\n",
       "        [  1.40000000e-03,   6.77700000e-02,   1.30900000e-02,\n",
       "           1.85000000e-02,   6.90000000e-04,   2.64600000e-02,\n",
       "           0.00000000e+00,   0.00000000e+00,   0.00000000e+00],\n",
       "        [  2.00000000e-05,   3.38000000e-03,   1.76000000e-03,\n",
       "           1.66000000e-03,   5.00000000e-05,   2.20000000e-03,\n",
       "           0.00000000e+00,   0.00000000e+00,   0.00000000e+00],\n",
       "        [  0.00000000e+00,   5.20000000e-04,   2.00000000e-05,\n",
       "           1.70000000e-04,   0.00000000e+00,   1.30000000e-04,\n",
       "           0.00000000e+00,   0.00000000e+00,   0.00000000e+00],\n",
       "        [  0.00000000e+00,   5.00000000e-05,   2.00000000e-05,\n",
       "           1.00000000e-05,   0.00000000e+00,   2.00000000e-05,\n",
       "           0.00000000e+00,   0.00000000e+00,   0.00000000e+00],\n",
       "        [  0.00000000e+00,   0.00000000e+00,   0.00000000e+00,\n",
       "           0.00000000e+00,   0.00000000e+00,   0.00000000e+00,\n",
       "           0.00000000e+00,   0.00000000e+00,   0.00000000e+00],\n",
       "        [  0.00000000e+00,   2.00000000e-05,   0.00000000e+00,\n",
       "           0.00000000e+00,   0.00000000e+00,   0.00000000e+00,\n",
       "           0.00000000e+00,   0.00000000e+00,   0.00000000e+00],\n",
       "        [  0.00000000e+00,   0.00000000e+00,   0.00000000e+00,\n",
       "           2.00000000e-05,   0.00000000e+00,   0.00000000e+00,\n",
       "           0.00000000e+00,   0.00000000e+00,   0.00000000e+00],\n",
       "        [  0.00000000e+00,   3.00000000e-05,   2.00000000e-05,\n",
       "           0.00000000e+00,   0.00000000e+00,   0.00000000e+00,\n",
       "           0.00000000e+00,   0.00000000e+00,   0.00000000e+00]]])"
      ]
     },
     "execution_count": 112,
     "metadata": {},
     "output_type": "execute_result"
    }
   ],
   "source": [
    "joint_prob"
   ]
  },
  {
   "cell_type": "code",
   "execution_count": null,
   "metadata": {
    "collapsed": true
   },
   "outputs": [],
   "source": []
  }
 ],
 "metadata": {
  "kernelspec": {
   "display_name": "Python 3",
   "language": "python",
   "name": "python3"
  },
  "language_info": {
   "codemirror_mode": {
    "name": "ipython",
    "version": 3
   },
   "file_extension": ".py",
   "mimetype": "text/x-python",
   "name": "python",
   "nbconvert_exporter": "python",
   "pygments_lexer": "ipython3",
   "version": "3.5.1"
  }
 },
 "nbformat": 4,
 "nbformat_minor": 0
}
