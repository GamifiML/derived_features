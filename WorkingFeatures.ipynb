{
 "cells": [
  {
   "cell_type": "code",
   "execution_count": 242,
   "metadata": {
    "collapsed": true
   },
   "outputs": [],
   "source": [
    "import  pandas as pd\n",
    "import  numpy as np\n",
    "train=pd.read_csv('smallTrain.csv')"
   ]
  },
  {
   "cell_type": "code",
   "execution_count": 3,
   "metadata": {
    "collapsed": false
   },
   "outputs": [
    {
     "data": {
      "text/html": [
       "<div>\n",
       "<table border=\"1\" class=\"dataframe\">\n",
       "  <thead>\n",
       "    <tr style=\"text-align: right;\">\n",
       "      <th></th>\n",
       "      <th>site_name</th>\n",
       "      <th>posa_continent</th>\n",
       "      <th>user_location_country</th>\n",
       "      <th>user_location_region</th>\n",
       "      <th>user_location_city</th>\n",
       "      <th>orig_destination_distance</th>\n",
       "      <th>user_id</th>\n",
       "      <th>is_mobile</th>\n",
       "      <th>is_package</th>\n",
       "      <th>channel</th>\n",
       "      <th>...</th>\n",
       "      <th>srch_destination_type_id</th>\n",
       "      <th>is_booking</th>\n",
       "      <th>cnt</th>\n",
       "      <th>hotel_continent</th>\n",
       "      <th>hotel_country</th>\n",
       "      <th>hotel_market</th>\n",
       "      <th>hotel_cluster</th>\n",
       "      <th>year</th>\n",
       "      <th>month</th>\n",
       "      <th>day</th>\n",
       "    </tr>\n",
       "  </thead>\n",
       "  <tbody>\n",
       "    <tr>\n",
       "      <th>0</th>\n",
       "      <td>2</td>\n",
       "      <td>3</td>\n",
       "      <td>66</td>\n",
       "      <td>348</td>\n",
       "      <td>48862</td>\n",
       "      <td>2234.2641</td>\n",
       "      <td>12</td>\n",
       "      <td>0</td>\n",
       "      <td>1</td>\n",
       "      <td>9</td>\n",
       "      <td>...</td>\n",
       "      <td>1</td>\n",
       "      <td>0</td>\n",
       "      <td>3</td>\n",
       "      <td>2</td>\n",
       "      <td>50</td>\n",
       "      <td>628</td>\n",
       "      <td>1</td>\n",
       "      <td>2014</td>\n",
       "      <td>8</td>\n",
       "      <td>11</td>\n",
       "    </tr>\n",
       "    <tr>\n",
       "      <th>1</th>\n",
       "      <td>2</td>\n",
       "      <td>3</td>\n",
       "      <td>66</td>\n",
       "      <td>348</td>\n",
       "      <td>48862</td>\n",
       "      <td>2234.2641</td>\n",
       "      <td>12</td>\n",
       "      <td>0</td>\n",
       "      <td>1</td>\n",
       "      <td>9</td>\n",
       "      <td>...</td>\n",
       "      <td>1</td>\n",
       "      <td>1</td>\n",
       "      <td>1</td>\n",
       "      <td>2</td>\n",
       "      <td>50</td>\n",
       "      <td>628</td>\n",
       "      <td>1</td>\n",
       "      <td>2014</td>\n",
       "      <td>8</td>\n",
       "      <td>11</td>\n",
       "    </tr>\n",
       "    <tr>\n",
       "      <th>2</th>\n",
       "      <td>2</td>\n",
       "      <td>3</td>\n",
       "      <td>66</td>\n",
       "      <td>348</td>\n",
       "      <td>48862</td>\n",
       "      <td>2234.2641</td>\n",
       "      <td>12</td>\n",
       "      <td>0</td>\n",
       "      <td>0</td>\n",
       "      <td>9</td>\n",
       "      <td>...</td>\n",
       "      <td>1</td>\n",
       "      <td>0</td>\n",
       "      <td>1</td>\n",
       "      <td>2</td>\n",
       "      <td>50</td>\n",
       "      <td>628</td>\n",
       "      <td>1</td>\n",
       "      <td>2014</td>\n",
       "      <td>8</td>\n",
       "      <td>11</td>\n",
       "    </tr>\n",
       "    <tr>\n",
       "      <th>3</th>\n",
       "      <td>2</td>\n",
       "      <td>3</td>\n",
       "      <td>66</td>\n",
       "      <td>442</td>\n",
       "      <td>35390</td>\n",
       "      <td>913.1932</td>\n",
       "      <td>93</td>\n",
       "      <td>0</td>\n",
       "      <td>0</td>\n",
       "      <td>3</td>\n",
       "      <td>...</td>\n",
       "      <td>1</td>\n",
       "      <td>0</td>\n",
       "      <td>1</td>\n",
       "      <td>2</td>\n",
       "      <td>50</td>\n",
       "      <td>1457</td>\n",
       "      <td>80</td>\n",
       "      <td>2014</td>\n",
       "      <td>8</td>\n",
       "      <td>9</td>\n",
       "    </tr>\n",
       "    <tr>\n",
       "      <th>4</th>\n",
       "      <td>2</td>\n",
       "      <td>3</td>\n",
       "      <td>66</td>\n",
       "      <td>442</td>\n",
       "      <td>35390</td>\n",
       "      <td>913.6259</td>\n",
       "      <td>93</td>\n",
       "      <td>0</td>\n",
       "      <td>0</td>\n",
       "      <td>3</td>\n",
       "      <td>...</td>\n",
       "      <td>1</td>\n",
       "      <td>0</td>\n",
       "      <td>1</td>\n",
       "      <td>2</td>\n",
       "      <td>50</td>\n",
       "      <td>1457</td>\n",
       "      <td>21</td>\n",
       "      <td>2014</td>\n",
       "      <td>8</td>\n",
       "      <td>9</td>\n",
       "    </tr>\n",
       "    <tr>\n",
       "      <th>5</th>\n",
       "      <td>2</td>\n",
       "      <td>3</td>\n",
       "      <td>66</td>\n",
       "      <td>442</td>\n",
       "      <td>35390</td>\n",
       "      <td>911.5142</td>\n",
       "      <td>93</td>\n",
       "      <td>0</td>\n",
       "      <td>0</td>\n",
       "      <td>3</td>\n",
       "      <td>...</td>\n",
       "      <td>1</td>\n",
       "      <td>0</td>\n",
       "      <td>1</td>\n",
       "      <td>2</td>\n",
       "      <td>50</td>\n",
       "      <td>1457</td>\n",
       "      <td>92</td>\n",
       "      <td>2014</td>\n",
       "      <td>8</td>\n",
       "      <td>9</td>\n",
       "    </tr>\n",
       "    <tr>\n",
       "      <th>6</th>\n",
       "      <td>2</td>\n",
       "      <td>3</td>\n",
       "      <td>66</td>\n",
       "      <td>189</td>\n",
       "      <td>10067</td>\n",
       "      <td>-13.0000</td>\n",
       "      <td>501</td>\n",
       "      <td>0</td>\n",
       "      <td>0</td>\n",
       "      <td>2</td>\n",
       "      <td>...</td>\n",
       "      <td>1</td>\n",
       "      <td>0</td>\n",
       "      <td>2</td>\n",
       "      <td>2</td>\n",
       "      <td>50</td>\n",
       "      <td>675</td>\n",
       "      <td>41</td>\n",
       "      <td>2014</td>\n",
       "      <td>7</td>\n",
       "      <td>16</td>\n",
       "    </tr>\n",
       "    <tr>\n",
       "      <th>7</th>\n",
       "      <td>2</td>\n",
       "      <td>3</td>\n",
       "      <td>66</td>\n",
       "      <td>189</td>\n",
       "      <td>10067</td>\n",
       "      <td>-13.0000</td>\n",
       "      <td>501</td>\n",
       "      <td>0</td>\n",
       "      <td>1</td>\n",
       "      <td>2</td>\n",
       "      <td>...</td>\n",
       "      <td>1</td>\n",
       "      <td>0</td>\n",
       "      <td>1</td>\n",
       "      <td>2</td>\n",
       "      <td>50</td>\n",
       "      <td>675</td>\n",
       "      <td>41</td>\n",
       "      <td>2014</td>\n",
       "      <td>7</td>\n",
       "      <td>16</td>\n",
       "    </tr>\n",
       "    <tr>\n",
       "      <th>8</th>\n",
       "      <td>2</td>\n",
       "      <td>3</td>\n",
       "      <td>66</td>\n",
       "      <td>189</td>\n",
       "      <td>10067</td>\n",
       "      <td>-13.0000</td>\n",
       "      <td>501</td>\n",
       "      <td>0</td>\n",
       "      <td>0</td>\n",
       "      <td>2</td>\n",
       "      <td>...</td>\n",
       "      <td>1</td>\n",
       "      <td>0</td>\n",
       "      <td>1</td>\n",
       "      <td>2</td>\n",
       "      <td>50</td>\n",
       "      <td>675</td>\n",
       "      <td>69</td>\n",
       "      <td>2014</td>\n",
       "      <td>7</td>\n",
       "      <td>16</td>\n",
       "    </tr>\n",
       "    <tr>\n",
       "      <th>9</th>\n",
       "      <td>2</td>\n",
       "      <td>3</td>\n",
       "      <td>66</td>\n",
       "      <td>189</td>\n",
       "      <td>10067</td>\n",
       "      <td>-13.0000</td>\n",
       "      <td>501</td>\n",
       "      <td>0</td>\n",
       "      <td>0</td>\n",
       "      <td>2</td>\n",
       "      <td>...</td>\n",
       "      <td>1</td>\n",
       "      <td>0</td>\n",
       "      <td>1</td>\n",
       "      <td>2</td>\n",
       "      <td>50</td>\n",
       "      <td>675</td>\n",
       "      <td>70</td>\n",
       "      <td>2014</td>\n",
       "      <td>7</td>\n",
       "      <td>16</td>\n",
       "    </tr>\n",
       "  </tbody>\n",
       "</table>\n",
       "<p>10 rows × 26 columns</p>\n",
       "</div>"
      ],
      "text/plain": [
       "   site_name  posa_continent  user_location_country  user_location_region  \\\n",
       "0          2               3                     66                   348   \n",
       "1          2               3                     66                   348   \n",
       "2          2               3                     66                   348   \n",
       "3          2               3                     66                   442   \n",
       "4          2               3                     66                   442   \n",
       "5          2               3                     66                   442   \n",
       "6          2               3                     66                   189   \n",
       "7          2               3                     66                   189   \n",
       "8          2               3                     66                   189   \n",
       "9          2               3                     66                   189   \n",
       "\n",
       "   user_location_city  orig_destination_distance  user_id  is_mobile  \\\n",
       "0               48862                  2234.2641       12          0   \n",
       "1               48862                  2234.2641       12          0   \n",
       "2               48862                  2234.2641       12          0   \n",
       "3               35390                   913.1932       93          0   \n",
       "4               35390                   913.6259       93          0   \n",
       "5               35390                   911.5142       93          0   \n",
       "6               10067                   -13.0000      501          0   \n",
       "7               10067                   -13.0000      501          0   \n",
       "8               10067                   -13.0000      501          0   \n",
       "9               10067                   -13.0000      501          0   \n",
       "\n",
       "   is_package  channel ...   srch_destination_type_id  is_booking  cnt  \\\n",
       "0           1        9 ...                          1           0    3   \n",
       "1           1        9 ...                          1           1    1   \n",
       "2           0        9 ...                          1           0    1   \n",
       "3           0        3 ...                          1           0    1   \n",
       "4           0        3 ...                          1           0    1   \n",
       "5           0        3 ...                          1           0    1   \n",
       "6           0        2 ...                          1           0    2   \n",
       "7           1        2 ...                          1           0    1   \n",
       "8           0        2 ...                          1           0    1   \n",
       "9           0        2 ...                          1           0    1   \n",
       "\n",
       "   hotel_continent  hotel_country  hotel_market  hotel_cluster  year  month  \\\n",
       "0                2             50           628              1  2014      8   \n",
       "1                2             50           628              1  2014      8   \n",
       "2                2             50           628              1  2014      8   \n",
       "3                2             50          1457             80  2014      8   \n",
       "4                2             50          1457             21  2014      8   \n",
       "5                2             50          1457             92  2014      8   \n",
       "6                2             50           675             41  2014      7   \n",
       "7                2             50           675             41  2014      7   \n",
       "8                2             50           675             69  2014      7   \n",
       "9                2             50           675             70  2014      7   \n",
       "\n",
       "   day  \n",
       "0   11  \n",
       "1   11  \n",
       "2   11  \n",
       "3    9  \n",
       "4    9  \n",
       "5    9  \n",
       "6   16  \n",
       "7   16  \n",
       "8   16  \n",
       "9   16  \n",
       "\n",
       "[10 rows x 26 columns]"
      ]
     },
     "execution_count": 3,
     "metadata": {},
     "output_type": "execute_result"
    }
   ],
   "source": [
    "train.head(10)"
   ]
  },
  {
   "cell_type": "code",
   "execution_count": 243,
   "metadata": {
    "collapsed": true
   },
   "outputs": [],
   "source": [
    "y=train['hotel_cluster']\n",
    "train=train.drop('hotel_cluster',axis=1)\n",
    "train=train.drop('orig_destination_distance',axis=1)"
   ]
  },
  {
   "cell_type": "code",
   "execution_count": 5,
   "metadata": {
    "collapsed": false
   },
   "outputs": [
    {
     "data": {
      "text/plain": [
       "(100000, 24)"
      ]
     },
     "execution_count": 5,
     "metadata": {},
     "output_type": "execute_result"
    }
   ],
   "source": [
    "train.shape"
   ]
  },
  {
   "cell_type": "raw",
   "metadata": {},
   "source": [
    "Fo    24    categorical  features    the  number  of  3D possible joint  prob  distribution    I think  is   combinations  of    N  tacken    3"
   ]
  },
  {
   "cell_type": "code",
   "execution_count": 6,
   "metadata": {
    "collapsed": true
   },
   "outputs": [],
   "source": [
    "#copy pasted from google \n",
    "from math import factorial\n",
    "def combination(n,k):\n",
    "    numerator=factorial(n)\n",
    "    denominator=(factorial(k)*factorial(n-k))\n",
    "    answer=numerator/denominator\n",
    "    return answer"
   ]
  },
  {
   "cell_type": "code",
   "execution_count": 7,
   "metadata": {
    "collapsed": false
   },
   "outputs": [
    {
     "data": {
      "text/plain": [
       "4.0"
      ]
     },
     "execution_count": 7,
     "metadata": {},
     "output_type": "execute_result"
    }
   ],
   "source": [
    "combination(4,3)"
   ]
  },
  {
   "cell_type": "code",
   "execution_count": 8,
   "metadata": {
    "collapsed": true
   },
   "outputs": [],
   "source": [
    "N=train.shape[1]"
   ]
  },
  {
   "cell_type": "code",
   "execution_count": 9,
   "metadata": {
    "collapsed": false
   },
   "outputs": [
    {
     "data": {
      "text/plain": [
       "24"
      ]
     },
     "execution_count": 9,
     "metadata": {},
     "output_type": "execute_result"
    }
   ],
   "source": [
    "N"
   ]
  },
  {
   "cell_type": "code",
   "execution_count": 10,
   "metadata": {
    "collapsed": true
   },
   "outputs": [],
   "source": [
    "import itertools"
   ]
  },
  {
   "cell_type": "code",
   "execution_count": 11,
   "metadata": {
    "collapsed": false
   },
   "outputs": [
    {
     "name": "stdout",
     "output_type": "stream",
     "text": [
      "2024\n"
     ]
    }
   ],
   "source": [
    "#GENERATING ALL COMBINATIONS  - willl  bring  back     3D indexes of column  names\n",
    "comb=itertools.combinations(range(N), 3)\n",
    "idx=[ elem   for  elem in  comb]\n",
    "\n",
    "print(len(idx))\n"
   ]
  },
  {
   "cell_type": "code",
   "execution_count": 12,
   "metadata": {
    "collapsed": false
   },
   "outputs": [],
   "source": [
    "from random import randrange\n",
    "random_index = randrange(0,len(idx))\n",
    "random_joint=idx[random_index]"
   ]
  },
  {
   "cell_type": "code",
   "execution_count": 13,
   "metadata": {
    "collapsed": false
   },
   "outputs": [
    {
     "data": {
      "text/plain": [
       "array([13, 18, 21])"
      ]
     },
     "execution_count": 13,
     "metadata": {},
     "output_type": "execute_result"
    }
   ],
   "source": [
    "random_joint=np.array(random_joint)\n",
    "random_joint"
   ]
  },
  {
   "cell_type": "code",
   "execution_count": 14,
   "metadata": {
    "collapsed": false
   },
   "outputs": [
    {
     "data": {
      "text/plain": [
       "Index(['site_name', 'posa_continent', 'user_location_country',\n",
       "       'user_location_region', 'user_location_city', 'user_id', 'is_mobile',\n",
       "       'is_package', 'channel', 'srch_ci', 'srch_co', 'srch_adults_cnt',\n",
       "       'srch_children_cnt', 'srch_rm_cnt', 'srch_destination_id',\n",
       "       'srch_destination_type_id', 'is_booking', 'cnt', 'hotel_continent',\n",
       "       'hotel_country', 'hotel_market', 'year', 'month', 'day'],\n",
       "      dtype='object')"
      ]
     },
     "execution_count": 14,
     "metadata": {},
     "output_type": "execute_result"
    }
   ],
   "source": [
    "names=train.columns\n",
    "names"
   ]
  },
  {
   "cell_type": "code",
   "execution_count": 15,
   "metadata": {
    "collapsed": false
   },
   "outputs": [],
   "source": [
    "names_subset=names[list(random_joint)]"
   ]
  },
  {
   "cell_type": "code",
   "execution_count": 16,
   "metadata": {
    "collapsed": false
   },
   "outputs": [
    {
     "data": {
      "text/html": [
       "<div>\n",
       "<table border=\"1\" class=\"dataframe\">\n",
       "  <thead>\n",
       "    <tr style=\"text-align: right;\">\n",
       "      <th></th>\n",
       "      <th>is_mobile</th>\n",
       "      <th>srch_rm_cnt</th>\n",
       "      <th>hotel_continent</th>\n",
       "    </tr>\n",
       "  </thead>\n",
       "  <tbody>\n",
       "    <tr>\n",
       "      <th>0</th>\n",
       "      <td>0</td>\n",
       "      <td>1</td>\n",
       "      <td>2</td>\n",
       "    </tr>\n",
       "    <tr>\n",
       "      <th>1</th>\n",
       "      <td>0</td>\n",
       "      <td>1</td>\n",
       "      <td>2</td>\n",
       "    </tr>\n",
       "    <tr>\n",
       "      <th>2</th>\n",
       "      <td>0</td>\n",
       "      <td>1</td>\n",
       "      <td>2</td>\n",
       "    </tr>\n",
       "  </tbody>\n",
       "</table>\n",
       "</div>"
      ],
      "text/plain": [
       "   is_mobile  srch_rm_cnt  hotel_continent\n",
       "0          0            1                2\n",
       "1          0            1                2\n",
       "2          0            1                2"
      ]
     },
     "execution_count": 16,
     "metadata": {},
     "output_type": "execute_result"
    }
   ],
   "source": [
    "tr=train[['is_mobile', 'srch_rm_cnt', 'hotel_continent']]\n",
    "tr.head(3)"
   ]
  },
  {
   "cell_type": "code",
   "execution_count": 231,
   "metadata": {
    "collapsed": false
   },
   "outputs": [],
   "source": [
    "from collections import Counter\n",
    "class featuresfrom3d(object):\n",
    "    def __init__(self,data):\n",
    "        \"\"\" init   class  with  3D  DATA FRAME  and  other  data  members  needed\"\"\"\n",
    "        self.data=data\n",
    "        # unique   categories for  the  3 features\n",
    "        self.u1=None\n",
    "        self.u2=None\n",
    "        self.u3=None\n",
    "        #names  for   easy call   of the columns\n",
    "        self.name1=self.data.columns[0]\n",
    "        self.name2=self.data.columns[1]\n",
    "        self.name3=self.data.columns[2]\n",
    "        #mapping     features\n",
    "        self.u1_mapping=None\n",
    "        self.u2_mapping=None\n",
    "        self.u3_mapping=None\n",
    "        #dimmensions  of    the   3D joint probability distro is    basically  the  cardinality of the   categories\n",
    "        self.dimmension_x=None\n",
    "        self.dimmension_y=None\n",
    "        self.dimmension_z=None\n",
    "        #set prob_space\n",
    "        self.prob_space=None\n",
    "        #the joint  distribution   of the   3  randomly choosen features\n",
    "        self.joint_prob_table=None\n",
    "    def  unique_cat(self):\n",
    "        \"\"\" get unique   categories   for  the    3 columns as list\"\"\"\n",
    "        self.u1=list(np.unique(self.data[self.name1]))\n",
    "        \n",
    "        self.u2=list(np.unique(self.data[self.name2]))\n",
    "        \n",
    "        self.u3=list(np.unique(self.data[self.name3]))\n",
    "        #after   computing the unique categories   will  add also    dimmensions of lego ,, cube''\n",
    "        self.dimmension_x=len(self.u1)\n",
    "        self.dimmension_y=len(self.u2)\n",
    "        self.dimmension_z=len(self.u3)\n",
    "        self.joint_prob_table=np.zeros((self.dimmension_x,self.dimmension_y,self.dimmension_y))\n",
    "    def mapping(self):\n",
    "        \"\"\"maps  with indexes  the        data  members    with   3 unique   values in order  to put   them  \n",
    "         in  a     3 dimmensional    lego \"\"\"\n",
    "        \n",
    "        self.u1_mapping={label:index\n",
    "           for  index,label in  enumerate(self.u1)}\n",
    "        \n",
    "        self.u2_mapping={label:index\n",
    "           for  index,label in  enumerate(self.u2)}\n",
    "        \n",
    "        self.u3_mapping={label:index\n",
    "           for  index,label in  enumerate(self.u3)}\n",
    "    def probspace(self):\n",
    "        \"\"\" Generates  probability  space\n",
    "        Here   is the    most  time extensive part , but   with  COunter   it is  solving in less  then  a second \n",
    "        \"\"\"\n",
    "        data=np.array(self.data)\n",
    "        tuples = [tuple(row) for row in data]\n",
    "        #get  frequency  for  each row   , Counter  fast  enough   for  our   task \n",
    "        frequency_of_rows=Counter(tuples)\n",
    "        \n",
    "        \n",
    "        probs={key:value/self.data.shape[0] for key,value in frequency_of_rows.items()}\n",
    "        self.prob_space=probs\n",
    "        #return  probs\n",
    "    \n",
    "    def  create_joint_3dtable(self):\n",
    "        for  x,y,z in self.prob_space:\n",
    "            self.joint_prob_table[self.u1_mapping[x],\n",
    "                                   self.u2_mapping[y],\n",
    "                                   self.u2_mapping[z]]=self.prob_space[(x,y,z)]\n",
    "                \n",
    "        \n",
    "        \n",
    "    def  conditioning1(self):\n",
    "        \"\"\" here      we query in the following    way   what  is  prob  of    happening  event in column  3\n",
    "          given  columns 1 ,  obviously  ,  should  marginalize  column2 ( index  1  in our   geometric thing)\"\"\"\n",
    "        joint_prob_col_2 = self.joint_prob_table.sum(axis=1)\n",
    "        feature1_train=[]\n",
    "        for i in  range(self.data.shape[0]):\n",
    " \n",
    "            query=joint_prob_col_2[\n",
    "                self.u1_mapping[self.data[self.data.columns[0]][i]],\n",
    "                self.u3_mapping[self.data[self.data.columns[2]][i]]]\n",
    "            feature1_train.append(query)\n",
    "        return feature1_train\n",
    "        \n",
    "            \n",
    "            \n",
    "            \n",
    "    def  conditioning2(self):\n",
    "        \n",
    "        joint_prob_col_2 = self.joint_prob_table.sum(axis=0)\n",
    "        feature2_train=[]\n",
    "        for i in  range(self.data.shape[0]):\n",
    " \n",
    "            query=joint_prob_col_2[\n",
    "                self.u2_mapping[self.data[self.data.columns[1]][i]],\n",
    "                self.u3_mapping[self.data[self.data.columns[2]][i]]]\n",
    "            feature2_train.append(query)\n",
    "        return feature2_train\n",
    "        \n",
    "    def  conditioning3(self):\n",
    "        joint_prob_col_3 = self.joint_prob_table.sum(axis=2)\n",
    "        feature3_train=[]\n",
    "        for i in  range(self.data.shape[0]):\n",
    " \n",
    "            query=joint_prob_col_3[\n",
    "                self.u1_mapping[self.data[self.data.columns[0]][i]],\n",
    "                self.u2_mapping[self.data[self.data.columns[1]][i]]]\n",
    "            feature3_train.append(query)\n",
    "        return feature3_train\n",
    "        \n",
    " \n",
    "    def  conditioning4(self):\n",
    "        a=1\n",
    "        #to seee if  mackes  sense \n",
    " \n",
    "class  GenerateFeatures(featuresfrom3d):\n",
    "    def __init__(self,N_COLUMNS,data):\n",
    "        \"\"\"  INHERITS   EVERYTHING FROM   FEATURESFROM3D CLASS\"\"\"\n",
    "        self.N_COLUMNS=N_COLUMNS\n",
    "        self.features_train=np.empty([data.shape[0], N_COLUMNS])\n",
    "        \n",
    "        featuresfrom3d.__init__(self,data)\n",
    "        featuresfrom3d.unique_cat(self)\n",
    "        featuresfrom3d.mapping(self)\n",
    "        featuresfrom3d.probspace(self)\n",
    "        featuresfrom3d.create_joint_3dtable(self)\n",
    "        f3=np.array(featuresfrom3d.conditioning3(self))\n",
    "        f1=np.array(featuresfrom3d.conditioning1(self))\n",
    "        f2=np.array(featuresfrom3d.conditioning2(self))\n",
    "        self.features_train[:,0]=f1\n",
    "        self.features_train[:,1]=f2\n",
    "        self.features_train[:,2]=f3\n",
    "        \n",
    "        \n",
    "        "
   ]
  },
  {
   "cell_type": "code",
   "execution_count": 232,
   "metadata": {
    "collapsed": false
   },
   "outputs": [],
   "source": [
    "g=GenerateFeatures(3,tr)"
   ]
  },
  {
   "cell_type": "code",
   "execution_count": 235,
   "metadata": {
    "collapsed": false
   },
   "outputs": [
    {
     "data": {
      "text/plain": [
       "(100000, 3)"
      ]
     },
     "execution_count": 235,
     "metadata": {},
     "output_type": "execute_result"
    }
   ],
   "source": [
    "g.features_train.shape"
   ]
  },
  {
   "cell_type": "code",
   "execution_count": 203,
   "metadata": {
    "collapsed": false
   },
   "outputs": [],
   "source": [
    "s.mapping()\n",
    " "
   ]
  },
  {
   "cell_type": "code",
   "execution_count": 204,
   "metadata": {
    "collapsed": false
   },
   "outputs": [],
   "source": [
    " \n",
    "s.probspace()\n",
    " \n",
    "s.create_joint_3dtable()\n",
    " "
   ]
  },
  {
   "cell_type": "code",
   "execution_count": 244,
   "metadata": {
    "collapsed": false
   },
   "outputs": [],
   "source": [
    "train=np.array(train)"
   ]
  },
  {
   "cell_type": "code",
   "execution_count": 245,
   "metadata": {
    "collapsed": false
   },
   "outputs": [],
   "source": [
    "y=np.array(y)"
   ]
  },
  {
   "cell_type": "code",
   "execution_count": 273,
   "metadata": {
    "collapsed": false
   },
   "outputs": [],
   "source": [
    "train=np.hstack((train,g.features_train))"
   ]
  },
  {
   "cell_type": "code",
   "execution_count": 248,
   "metadata": {
    "collapsed": true
   },
   "outputs": [],
   "source": [
    "import xgboost   as xgb\n",
    "xgb=xgb.XGBRegressor(n_estimators=1)\n"
   ]
  },
  {
   "cell_type": "code",
   "execution_count": 249,
   "metadata": {
    "collapsed": false
   },
   "outputs": [],
   "source": [
    "from sklearn.ensemble import   RandomForestRegressor"
   ]
  },
  {
   "cell_type": "code",
   "execution_count": 281,
   "metadata": {
    "collapsed": true
   },
   "outputs": [],
   "source": [
    "forest=RandomForestRegressor(n_estimators=1)"
   ]
  },
  {
   "cell_type": "code",
   "execution_count": 282,
   "metadata": {
    "collapsed": false
   },
   "outputs": [
    {
     "data": {
      "text/plain": [
       "RandomForestRegressor(bootstrap=True, criterion='mse', max_depth=None,\n",
       "           max_features='auto', max_leaf_nodes=None, min_samples_leaf=1,\n",
       "           min_samples_split=2, min_weight_fraction_leaf=0.0,\n",
       "           n_estimators=1, n_jobs=1, oob_score=False, random_state=None,\n",
       "           verbose=0, warm_start=False)"
      ]
     },
     "execution_count": 282,
     "metadata": {},
     "output_type": "execute_result"
    }
   ],
   "source": [
    "forest.fit(train,y)"
   ]
  },
  {
   "cell_type": "code",
   "execution_count": 283,
   "metadata": {
    "collapsed": true
   },
   "outputs": [],
   "source": [
    "importances = forest.feature_importances_"
   ]
  },
  {
   "cell_type": "code",
   "execution_count": 284,
   "metadata": {
    "collapsed": false
   },
   "outputs": [
    {
     "data": {
      "text/plain": [
       "array([ 0.01424993,  0.00541522,  0.02160203,  0.07554623,  0.10334585,\n",
       "        0.1102062 ,  0.00578373,  0.01664082,  0.04078824,  0.        ,\n",
       "        0.        ,  0.02800599,  0.02184115,  0.00446753,  0.08663184,\n",
       "        0.02205145,  0.01756117,  0.09538437,  0.00158359,  0.02320067,\n",
       "        0.08163287,  0.0140735 ,  0.06540478,  0.11488744,  0.00905658,\n",
       "        0.01019727,  0.01044156])"
      ]
     },
     "execution_count": 284,
     "metadata": {},
     "output_type": "execute_result"
    }
   ],
   "source": [
    "importances"
   ]
  },
  {
   "cell_type": "code",
   "execution_count": 285,
   "metadata": {
    "collapsed": true
   },
   "outputs": [],
   "source": [
    "std = np.std([tree.feature_importances_ for tree in forest.estimators_],\n",
    "             axis=0)\n",
    "indices = np.argsort(importances)[::-1]"
   ]
  },
  {
   "cell_type": "code",
   "execution_count": 286,
   "metadata": {
    "collapsed": false
   },
   "outputs": [
    {
     "name": "stdout",
     "output_type": "stream",
     "text": [
      "Feature ranking:\n",
      "1. feature 23 (0.114887)\n",
      "2. feature 5 (0.110206)\n",
      "3. feature 4 (0.103346)\n",
      "4. feature 17 (0.095384)\n",
      "5. feature 14 (0.086632)\n",
      "6. feature 20 (0.081633)\n",
      "7. feature 3 (0.075546)\n",
      "8. feature 22 (0.065405)\n",
      "9. feature 8 (0.040788)\n",
      "10. feature 11 (0.028006)\n",
      "11. feature 19 (0.023201)\n",
      "12. feature 15 (0.022051)\n",
      "13. feature 12 (0.021841)\n",
      "14. feature 2 (0.021602)\n",
      "15. feature 16 (0.017561)\n",
      "16. feature 7 (0.016641)\n",
      "17. feature 0 (0.014250)\n",
      "18. feature 21 (0.014074)\n",
      "19. feature 26 (0.010442)\n",
      "20. feature 25 (0.010197)\n",
      "21. feature 24 (0.009057)\n",
      "22. feature 6 (0.005784)\n",
      "23. feature 1 (0.005415)\n",
      "24. feature 13 (0.004468)\n",
      "25. feature 18 (0.001584)\n",
      "26. feature 9 (0.000000)\n",
      "27. feature 10 (0.000000)\n"
     ]
    },
    {
     "data": {
      "image/png": "[encoded data removed]",
      "text/plain": [
       "<matplotlib.figure.Figure at 0x7fdb9c1b00f0>"
      ]
     },
     "metadata": {},
     "output_type": "display_data"
    }
   ],
   "source": [
    "# Print the feature ranking\n",
    "%matplotlib inline\n",
    "import  matplotlib\n",
    "from  matplotlib  import  pyplot  as  plt\n",
    "print(\"Feature ranking:\")\n",
    "\n",
    "for f in range(train.shape[1]):\n",
    "    print(\"%d. feature %d (%f)\" % (f + 1, indices[f], importances[indices[f]]))\n",
    "\n",
    "# Plot the feature importances of the forest\n",
    "plt.figure()\n",
    "plt.title(\"Feature importances\")\n",
    "plt.bar(range(train.shape[1]), importances[indices],\n",
    "       color=\"blue\", yerr=std[indices], align=\"center\")\n",
    "plt.xticks(range(train.shape[1]), indices)\n",
    "plt.xlim([-2, train.shape[1]])\n",
    "plt.show()\n"
   ]
  },
  {
   "cell_type": "code",
   "execution_count": 274,
   "metadata": {
    "collapsed": false
   },
   "outputs": [
    {
     "data": {
      "text/plain": [
       "(100000, 27)"
      ]
     },
     "execution_count": 274,
     "metadata": {},
     "output_type": "execute_result"
    }
   ],
   "source": [
    "train.shape"
   ]
  },
  {
   "cell_type": "code",
   "execution_count": 272,
   "metadata": {
    "collapsed": false
   },
   "outputs": [
    {
     "data": {
      "text/plain": [
       "array([[   2,    3,   66, ..., 2014,    8,   11],\n",
       "       [   2,    3,   66, ..., 2014,    8,   11],\n",
       "       [   2,    3,   66, ..., 2014,    8,   11],\n",
       "       ..., \n",
       "       [  37,    1,   69, ..., 2013,    4,    1],\n",
       "       [  37,    1,   69, ..., 2013,    4,    1],\n",
       "       [  37,    1,   69, ..., 2013,    4,    1]])"
      ]
     },
     "execution_count": 272,
     "metadata": {},
     "output_type": "execute_result"
    }
   ],
   "source": [
    "train"
   ]
  },
  {
   "cell_type": "code",
   "execution_count": null,
   "metadata": {
    "collapsed": true
   },
   "outputs": [],
   "source": []
  }
 ],
 "metadata": {
  "kernelspec": {
   "display_name": "Python 3",
   "language": "python",
   "name": "python3"
  },
  "language_info": {
   "codemirror_mode": {
    "name": "ipython",
    "version": 3
   },
   "file_extension": ".py",
   "mimetype": "text/x-python",
   "name": "python",
   "nbconvert_exporter": "python",
   "pygments_lexer": "ipython3",
   "version": "3.5.1"
  }
 },
 "nbformat": 4,
 "nbformat_minor": 0
}
